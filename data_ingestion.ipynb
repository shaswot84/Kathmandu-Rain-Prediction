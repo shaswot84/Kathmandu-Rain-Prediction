{
 "cells": [
  {
   "cell_type": "code",
   "execution_count": 1,
   "id": "a31ad210",
   "metadata": {},
   "outputs": [],
   "source": [
    "import pandas as pd\n",
    "import glob\n",
    "import matplotlib.pyplot as plt\n",
    "import seaborn as sns"
   ]
  },
  {
   "cell_type": "markdown",
   "id": "052f61a6",
   "metadata": {},
   "source": [
    "## Data Sourcing"
   ]
  },
  {
   "cell_type": "markdown",
   "id": "37bb6772",
   "metadata": {},
   "source": [
    "#### 1. from visual crossing"
   ]
  },
  {
   "cell_type": "code",
   "execution_count": null,
   "id": "600050ad",
   "metadata": {},
   "outputs": [],
   "source": [
    "# #combining mutplie csv files (from visual crssoing) into one\n",
    "\n",
    "# one time thing, otherwise will create duplicaated values in visual_crossing_combined_data.csv\n",
    "csv_files = glob.glob(\"/home/momo/Downloads/dataset for prec/visual_crossing/*.csv\") #lists all the csv files, in sorted(date) manner\n",
    "visual_crossing_combined_df = pd.concat([pd.read_csv(i) for i in csv_files], ignore_index=False) # combined df\n",
    "visual_crossing_combined_df.to_csv(\"/home/momo/Downloads/dataset for prec/visual_crossing/visual_crossing_combined_data.csv\", index=False)"
   ]
  },
  {
   "cell_type": "code",
   "execution_count": 51,
   "id": "4e144442",
   "metadata": {},
   "outputs": [],
   "source": [
    "filepath = \"/home/momo/Downloads/dataset for prec/visual_crossing/visual_crossing_combined_data.csv\"\n",
    "visual_crossing_df = pd.read_csv(filepath_or_buffer=filepath)"
   ]
  },
  {
   "cell_type": "code",
   "execution_count": 52,
   "id": "8a7275d4",
   "metadata": {},
   "outputs": [
    {
     "data": {
      "text/plain": [
       "0    4.17\n",
       "1    8.33\n",
       "2    4.17\n",
       "3    4.17\n",
       "4    4.17\n",
       "Name: precipcover, dtype: float64"
      ]
     },
     "execution_count": 52,
     "metadata": {},
     "output_type": "execute_result"
    }
   ],
   "source": [
    "visual_crossing_combined_df.precipcover.head(5)"
   ]
  },
  {
   "cell_type": "code",
   "execution_count": null,
   "id": "2270efb6",
   "metadata": {},
   "outputs": [],
   "source": []
  },
  {
   "cell_type": "code",
   "execution_count": 53,
   "id": "af639e11",
   "metadata": {},
   "outputs": [
    {
     "data": {
      "text/plain": [
       "name                   0\n",
       "datetime               0\n",
       "tempmax                0\n",
       "tempmin                0\n",
       "temp                   0\n",
       "feelslikemax           0\n",
       "feelslikemin           0\n",
       "feelslike              0\n",
       "dew                    0\n",
       "humidity               0\n",
       "precip                 0\n",
       "precipprob             0\n",
       "precipcover            0\n",
       "preciptype          1827\n",
       "snow                   0\n",
       "snowdepth              0\n",
       "windgust               0\n",
       "windspeed              0\n",
       "winddir                0\n",
       "sealevelpressure       0\n",
       "cloudcover             0\n",
       "visibility             0\n",
       "solarradiation         0\n",
       "solarenergy            0\n",
       "uvindex                0\n",
       "severerisk          2452\n",
       "sunrise                0\n",
       "sunset                 0\n",
       "moonphase              0\n",
       "conditions             0\n",
       "description            0\n",
       "icon                   0\n",
       "stations               0\n",
       "dtype: int64"
      ]
     },
     "execution_count": 53,
     "metadata": {},
     "output_type": "execute_result"
    }
   ],
   "source": [
    "visual_crossing_combined_df.isna().sum()"
   ]
  },
  {
   "cell_type": "code",
   "execution_count": 54,
   "id": "734416c2",
   "metadata": {},
   "outputs": [
    {
     "data": {
      "text/plain": [
       "Index(['name', 'datetime', 'tempmax', 'tempmin', 'temp', 'feelslikemax',\n",
       "       'feelslikemin', 'feelslike', 'dew', 'humidity', 'precip', 'precipprob',\n",
       "       'precipcover', 'preciptype', 'snow', 'snowdepth', 'windgust',\n",
       "       'windspeed', 'winddir', 'sealevelpressure', 'cloudcover', 'visibility',\n",
       "       'solarradiation', 'solarenergy', 'uvindex', 'severerisk', 'sunrise',\n",
       "       'sunset', 'moonphase', 'conditions', 'description', 'icon', 'stations'],\n",
       "      dtype='object')"
      ]
     },
     "execution_count": 54,
     "metadata": {},
     "output_type": "execute_result"
    }
   ],
   "source": [
    "(visual_crossing_df.columns)"
   ]
  },
  {
   "cell_type": "code",
   "execution_count": 55,
   "id": "6fdc8868",
   "metadata": {},
   "outputs": [],
   "source": [
    "# # do this later after combining all the data\n",
    "\n",
    "# # dropping irrelevant columns\n",
    "# visual_crossing_combined_df.drop(columns=['name','feelslikemax',\n",
    "#     #    'feelslikemin', 'feelslike','precipprob',\n",
    "#     #    'precipcover', 'preciptype', 'snow', 'snowdepth',])"
   ]
  },
  {
   "cell_type": "markdown",
   "id": "9f66a943",
   "metadata": {},
   "source": [
    "#### 2. from Meteostat (only taking precip data)"
   ]
  },
  {
   "cell_type": "code",
   "execution_count": 56,
   "id": "938c5d18",
   "metadata": {},
   "outputs": [
    {
     "data": {
      "text/plain": [
       "(3287, 2)"
      ]
     },
     "execution_count": 56,
     "metadata": {},
     "output_type": "execute_result"
    }
   ],
   "source": [
    "filepath_2 = \"/home/momo/Downloads/dataset for prec/meostat/export.csv\"\n",
    "\n",
    "meteostat_df = pd.read_csv(filepath_or_buffer=filepath_2,usecols=[\"date\",\"prcp\"])\n",
    "meteostat_df[\"date\"] = pd.to_datetime(meteostat_df.date)\n",
    "meteostat_df.head(5)\n",
    "meteostat_df.shape"
   ]
  },
  {
   "cell_type": "code",
   "execution_count": 57,
   "id": "023b7aae",
   "metadata": {},
   "outputs": [
    {
     "data": {
      "text/plain": [
       "625"
      ]
     },
     "execution_count": 57,
     "metadata": {},
     "output_type": "execute_result"
    }
   ],
   "source": [
    "null_values_index_meteostat = list(meteostat_df[meteostat_df.prcp.isna()].index)\n",
    "len(null_values_index_meteostat)"
   ]
  },
  {
   "cell_type": "code",
   "execution_count": 58,
   "id": "8aa2b567",
   "metadata": {},
   "outputs": [
    {
     "data": {
      "text/plain": [
       "11      2.8956\n",
       "16      0.5080\n",
       "28      4.9022\n",
       "29     11.9888\n",
       "37      0.4064\n",
       "        ...   \n",
       "535     0.0000\n",
       "633     0.0000\n",
       "732     0.0000\n",
       "833    16.9672\n",
       "834     8.0264\n",
       "Name: precip, Length: 625, dtype: float64"
      ]
     },
     "execution_count": 58,
     "metadata": {},
     "output_type": "execute_result"
    }
   ],
   "source": [
    "#conversion from inch to mm done\n",
    "missing_values_to_be_replace_in_meteostat = visual_crossing_combined_df.iloc[null_values_index_meteostat][\"precip\"]*25.4\n",
    "missing_values_to_be_replace_in_meteostat"
   ]
  },
  {
   "cell_type": "code",
   "execution_count": 59,
   "id": "a0df558b",
   "metadata": {},
   "outputs": [
    {
     "name": "stdout",
     "output_type": "stream",
     "text": [
      "{11: 2.8956, 16: 0.508, 28: 4.9022, 29: 11.9888, 37: 0.4064, 40: 0.2032, 61: 10.388599999999999, 64: 62.00139999999999, 65: 19.304, 76: 24.002999999999997, 86: 1.4986, 89: 0.4064, 113: 0.0, 114: 0.0, 115: 0.1016, 117: 0.1016, 118: 0.0, 119: 0.0, 120: 0.0, 140: 0.0, 141: 0.0, 142: 0.4064, 143: 0.1016, 145: 0.0, 154: 0.0, 155: 0.0, 158: 0.0, 159: 0.0, 161: 0.0, 168: 0.0, 169: 0.0, 171: 0.0, 179: 0.0, 183: 0.0, 186: 0.1016, 191: 0.0, 199: 0.0, 201: 0.0, 213: 0.0, 224: 0.0, 225: 0.0, 234: 0.0, 257: 0.1016, 265: 0.0, 266: 0.3048, 291: 0.0, 299: 0.0, 302: 8.2042, 303: 8.7884, 310: 0.9905999999999999, 316: 0.0, 317: 0.0, 326: 0.508, 335: 0.1016, 340: 0.0, 343: 0.1016, 344: 0.0, 345: 0.2032, 352: 0.0, 353: 0.0, 358: 13.0048, 362: 5.0038, 364: 2.0065999999999997, 392: 0.0, 397: 18.9992, 403: 4.9022, 404: 1.4986, 405: 0.0, 406: 21.005799999999997, 407: 8.991599999999998, 410: 0.6096, 415: 0.0, 438: 8.991599999999998, 443: 0.0, 445: 2.0065999999999997, 447: 6.5024, 466: 0.0, 471: 0.3048, 475: 0.0, 477: 0.0, 483: 0.0, 488: 0.9905999999999999, 489: 0.0, 490: 0.0, 491: 0.0, 492: 0.0, 499: 0.0, 505: 0.0, 510: 0.0, 517: 0.0, 519: 0.0, 524: 0.0, 526: 0.0, 534: 0.0, 535: 0.0, 536: 0.0, 538: 0.0, 544: 0.0, 545: 0.0, 559: 0.0, 568: 0.0, 569: 0.0, 570: 0.0, 571: 0.0, 576: 0.0, 588: 0.0, 593: 0.0, 599: 0.0, 606: 0.0, 608: 0.0, 611: 0.0, 627: 0.0, 634: 0.0, 636: 0.0, 638: 0.0, 641: 50.4952, 642: 0.0, 643: 0.0, 644: 0.0, 647: 2.9972, 649: 0.2032, 651: 0.1016, 657: 0.0, 677: 2.0065999999999997, 680: 0.0, 697: 0.0, 701: 0.508, 705: 0.0, 718: 0.0, 721: 4.2926, 731: 41.9862, 732: 7.492999999999999, 733: 2.2097999999999995, 734: 0.7111999999999999, 735: 0.0, 737: 0.0, 739: 0.0, 740: 1.1938, 741: 0.0, 742: 0.0, 743: 1.8033999999999997, 744: 0.0, 745: 1.9049999999999998, 746: 0.0, 747: 0.0, 748: 0.0, 749: 0.0, 750: 0.2032, 751: 0.7874, 752: 1.1938, 753: 0.0, 754: 0.889, 755: 2.2859999999999996, 756: 0.3048, 757: 0.0, 758: 0.4064, 759: 0.0, 760: 0.0, 762: 15.011399999999998, 767: 0.0, 768: 0.0, 771: 0.0, 772: 0.0, 776: 2.2097999999999995, 777: 0.9905999999999999, 778: 0.0, 779: 0.0, 780: 0.0, 781: 0.7111999999999999, 782: 0.0, 783: 0.0, 784: 16.002, 785: 0.0, 786: 0.0, 787: 1.4986, 788: 0.0, 789: 0.0, 790: 4.2672, 791: 0.0, 792: 0.0, 793: 0.0, 794: 0.0, 795: 0.0, 796: 0.0, 797: 0.0, 798: 2.3876, 799: 0.0, 800: 0.0, 801: 0.0, 802: 0.0, 806: 0.1016, 807: 0.8128, 808: 1.2192, 809: 0.2032, 810: 0.0, 811: 6.1213999999999995, 812: 0.0, 813: 0.0, 814: 0.0, 815: 0.0, 816: 0.0, 817: 0.1016, 818: 0.1016, 819: 0.0, 820: 0.1016, 821: 0.0, 822: 0.0, 823: 0.1016, 824: 0.0, 825: 0.0, 826: 0.0, 827: 0.0, 828: 0.0, 829: 0.0, 830: 0.0, 831: 0.1016, 832: 0.0, 833: 0.0, 834: 0.0, 835: 0.0, 836: 0.0, 837: 0.0, 838: 0.0, 839: 0.0, 840: 0.0, 841: 0.0, 842: 0.0, 843: 0.0, 844: 0.0, 845: 0.0, 846: 0.0, 847: 0.0, 848: 0.0, 849: 0.0, 850: 0.0, 851: 0.0, 852: 0.0, 853: 0.0, 854: 0.0, 855: 0.0, 856: 0.0, 857: 0.0, 858: 0.0, 864: 0.0, 874: 0.0, 877: 0.0, 880: 0.0, 883: 0.3048, 886: 0.0, 897: 0.0, 900: 0.1016, 901: 0.0, 905: 0.0, 906: 0.0, 911: 0.0, 915: 0.0, 919: 0.0, 920: 0.6096, 921: 0.0, 922: 0.0, 924: 0.0, 936: 2.2859999999999996, 937: 3.9878, 940: 0.7111999999999999, 951: 10.5918, 952: 11.2014, 953: 28.194000000000003, 962: 0.0, 985: 0.0, 1009: 12.496799999999999, 1011: 0.0, 1016: 0.9905999999999999, 1018: 0.0, 1019: 8.991599999999998, 1023: 30.987999999999996, 1035: 2.9972, 1038: 0.0, 1046: 7.7978, 1057: 0.0, 1061: 0.0, 1064: 0.0, 1068: 0.0, 1075: 0.0, 1081: 0.0, 1085: 0.0, 1093: 5.9944, 1095: 0.0, 1104: 22.8092, 1113: 41.0972, 1114: 5.8928, 1118: 12.5984, 1125: 0.1016, 1127: 3.2003999999999997, 1140: 0.6096, 1155: 0.6096, 1159: 0.0, 1164: 3.5052000000000003, 1167: 12.2936, 1174: 17.399, 1178: 0.9905999999999999, 1185: 0.7111999999999999, 1193: 0.0, 1205: 0.0, 1210: 0.0, 1216: 0.0, 1218: 0.0, 1219: 0.0, 1220: 0.0, 1222: 99.9998, 1225: 0.1016, 1227: 0.0, 1234: 0.0, 1235: 0.0, 1236: 0.3048, 1237: 0.0, 1238: 0.1016, 1239: 0.2032, 1240: 0.2032, 1241: 0.0, 1242: 0.0, 1243: 0.0, 1244: 0.0, 1245: 0.0, 1246: 0.0, 1247: 0.0, 1248: 0.0, 1249: 0.0, 1250: 0.1016, 1251: 0.0, 1252: 0.0, 1253: 0.0, 1254: 0.0, 1255: 0.0, 1256: 0.0, 1260: 3.9878, 1263: 0.0, 1266: 0.0, 1272: 0.0, 1274: 0.0, 1275: 0.0, 1278: 0.0, 1281: 0.3048, 1282: 0.0, 1286: 2.6161999999999996, 1289: 0.0, 1294: 0.0, 1295: 48.00599999999999, 1296: 5.0038, 1299: 0.0, 1303: 0.0, 1306: 0.0, 1314: 0.0, 1318: 0.0, 1319: 0.0, 1327: 0.0, 1335: 8.001, 1336: 0.0, 1351: 0.6096, 1352: 2.2352, 1355: 0.0, 1357: 0.1016, 1358: 0.0, 1359: 0.0, 1360: 0.0, 1362: 0.0, 1385: 0.0, 1393: 2.9972, 1394: 27.609799999999996, 1395: 0.0, 1405: 5.0038, 1410: 0.2032, 1413: 0.0, 1421: 0.0, 1427: 0.1016, 1428: 0.1016, 1429: 0.0, 1430: 0.0, 1431: 0.0, 1432: 0.0, 1433: 0.0, 1434: 0.889, 1435: 0.2032, 1436: 0.0, 1437: 0.0, 1438: 0.0, 1439: 0.0, 1440: 0.0, 1441: 0.2032, 1442: 0.0, 1443: 0.0, 1444: 0.7111999999999999, 1445: 0.0, 1446: 8.7884, 1447: 0.6096, 1448: 0.0, 1449: 0.0, 1450: 0.0, 1451: 0.0, 1452: 3.7845999999999997, 1453: 0.0, 1454: 0.4064, 1455: 0.0, 1456: 5.08, 1457: 0.0, 1458: 0.0, 1459: 0.3048, 1460: 0.1016, 1461: 0.0, 1462: 1.7018, 1463: 0.0, 1464: 0.0, 1465: 0.0, 1466: 0.0, 1467: 4.5973999999999995, 1468: 0.3048, 1469: 0.0, 1470: 0.0, 1471: 0.0, 1472: 0.0, 1473: 0.2032, 1474: 0.1016, 1475: 0.0, 1476: 0.0, 1477: 1.7018, 1478: 0.0, 1479: 0.0, 1480: 0.0, 1481: 0.508, 1482: 1.9049999999999998, 1483: 0.0, 1484: 15.493999999999998, 1485: 0.1016, 1486: 0.0, 1487: 1.397, 1488: 1.4986, 1489: 0.1016, 1490: 0.0, 1491: 0.0, 1492: 2.3114, 1493: 0.0, 1494: 0.7111999999999999, 1495: 0.0, 1496: 0.0, 1497: 3.5052000000000003, 1498: 0.2032, 1499: 0.0, 1500: 0.0, 1501: 0.0, 1502: 0.0, 1503: 0.0, 1504: 2.0827999999999998, 1505: 0.0, 1506: 0.0, 1507: 0.0, 1508: 0.0, 1509: 0.0, 1510: 0.0, 1511: 0.3048, 1512: 0.0, 1513: 0.7111999999999999, 1514: 0.0, 1515: 0.0, 1516: 0.2032, 1517: 0.4064, 1518: 0.0, 1519: 0.0, 1520: 0.0, 1521: 0.0, 1522: 0.1016, 1523: 0.0, 1524: 0.0, 1525: 0.0, 1526: 0.0, 1527: 0.0, 1528: 0.0, 1529: 0.1016, 1530: 0.0, 1531: 0.0, 1532: 0.3048, 1533: 0.0, 1534: 0.0, 1535: 0.0, 1536: 0.0, 1537: 0.1016, 1538: 0.6096, 1539: 0.0, 1540: 0.0, 1541: 0.0, 1542: 0.0, 1543: 0.0, 1544: 0.1016, 1545: 0.0, 1546: 0.0, 1547: 4.699, 1548: 0.0, 1549: 0.0, 1550: 0.0, 1551: 0.0, 1552: 0.4064, 1553: 0.1016, 1554: 0.0, 1555: 0.0, 1556: 0.0, 1557: 0.0, 1558: 0.0, 1559: 0.0, 1560: 0.0, 1573: 0.0, 1575: 0.0, 1576: 0.0, 1586: 0.0, 1591: 0.0, 1593: 0.0, 1594: 0.0, 1597: 0.0, 1599: 0.0, 1607: 0.0, 1610: 0.0, 1612: 0.0, 1614: 0.0, 1622: 0.0, 1623: 0.0, 1625: 0.0, 1628: 0.0, 1629: 0.0, 1631: 0.0, 1632: 0.0, 1633: 0.0, 1634: 0.0, 1635: 0.0, 1638: 0.0, 1640: 0.0, 1643: 0.0, 1646: 0.0, 1651: 0.0, 1653: 0.0, 1672: 0.0, 1674: 0.0, 1680: 0.0, 1683: 0.0, 1684: 0.0, 1685: 0.0, 1686: 0.0, 1687: 0.3048, 1689: 0.0, 1690: 0.0, 1694: 0.2032, 1695: 0.0, 1696: 0.0, 1697: 0.0, 1699: 0.0, 1700: 0.0, 1701: 0.0, 1703: 0.0, 1720: 0.0, 1738: 0.0, 1746: 0.0, 1766: 12.801599999999999, 1772: 0.0, 1783: 0.0, 1792: 31.1912, 1793: 9.906, 1808: 8.6106, 1812: 4.3942, 1824: 3.9878, 1831: 27.9908, 1832: 0.4064, 1836: 21.59, 1839: 39.5986, 1845: 13.9954, 1852: 5.4102, 1858: 0.7111999999999999, 1859: 0.6096, 1878: 2.9972, 1888: 0.6096, 1896: 0.0, 1901: 1.9049999999999998, 1902: 2.9972, 1903: 0.889, 1904: 4.2926, 1914: 1.397, 1919: 0.0, 1923: 0.0, 1932: 0.0, 1936: 4.0893999999999995, 1942: 0.0, 1978: 0.0, 1980: 0.0, 1982: 2.0065999999999997, 1989: 0.0, 1993: 0.0, 1994: 0.0, 1999: 0.0, 2000: 0.0, 2006: 0.0, 2007: 37.388799999999996, 2009: 0.0, 2010: 0.0, 2011: 0.0, 2015: 0.0, 2016: 0.0, 2023: 0.0, 2026: 0.0, 2031: 0.0, 2032: 0.2032, 2037: 0.0, 2038: 0.0, 2043: 0.0, 2047: 0.0, 2103: 0.0, 2111: 0.508, 2124: 0.0, 2131: 0.0, 2133: 0.0, 2136: 0.0, 2138: 59.5884, 2143: 15.189199999999998, 2145: 28.3972, 2984: 24.511, 2986: 43.992799999999995, 2987: 0.0, 3085: 0.0, 3184: 0.0, 3285: 16.9672, 3286: 8.026399999999999}\n"
     ]
    }
   ],
   "source": [
    "# map null value index with meteostat precip value\n",
    "missing_precip_values = {index:value for index, value in zip(null_values_index_meteostat,\n",
    "                                                  missing_values_to_be_replace_in_meteostat)}\n",
    "print(missing_precip_values)"
   ]
  },
  {
   "cell_type": "code",
   "execution_count": 60,
   "id": "476adf5d",
   "metadata": {},
   "outputs": [],
   "source": [
    "# replacing the null values (prcp) of meteostat with (precip) (in inches) from visual_crossing\n",
    "#convert the inches to mm and then replace\n",
    "copy_meteostat = meteostat_df.copy(deep=True)\n",
    "copy_visual = visual_crossing_combined_df.copy(deep=True)\n"
   ]
  },
  {
   "cell_type": "code",
   "execution_count": 61,
   "id": "23db1828",
   "metadata": {},
   "outputs": [],
   "source": [
    "copy_meteostat[\"precipitation\"] = copy_meteostat[\"prcp\"].fillna(missing_precip_values)"
   ]
  },
  {
   "cell_type": "code",
   "execution_count": null,
   "id": "86dc58ef",
   "metadata": {},
   "outputs": [],
   "source": []
  },
  {
   "cell_type": "code",
   "execution_count": 62,
   "id": "103b20d3",
   "metadata": {},
   "outputs": [],
   "source": [
    "copy_meteostat.isna().sum()\n",
    "#dropping the old prcp column\n",
    "copy_meteostat.drop(columns=[\"prcp\"],inplace=True)\n"
   ]
  },
  {
   "cell_type": "code",
   "execution_count": 63,
   "id": "b9dff2b7",
   "metadata": {},
   "outputs": [
    {
     "data": {
      "text/plain": [
       "date             datetime64[ns]\n",
       "precipitation           float64\n",
       "dtype: object"
      ]
     },
     "execution_count": 63,
     "metadata": {},
     "output_type": "execute_result"
    }
   ],
   "source": [
    "copy_meteostat.dtypes"
   ]
  },
  {
   "cell_type": "code",
   "execution_count": 64,
   "id": "750bf24c",
   "metadata": {},
   "outputs": [
    {
     "data": {
      "text/plain": [
       "name        object\n",
       "datetime    object\n",
       "dtype: object"
      ]
     },
     "execution_count": 64,
     "metadata": {},
     "output_type": "execute_result"
    }
   ],
   "source": [
    "copy_visual.dtypes[:2]"
   ]
  },
  {
   "cell_type": "code",
   "execution_count": 65,
   "id": "aad0e35f",
   "metadata": {},
   "outputs": [
    {
     "data": {
      "text/plain": [
       "name                        object\n",
       "datetime                    object\n",
       "tempmax                    float64\n",
       "tempmin                    float64\n",
       "temp                       float64\n",
       "feelslikemax               float64\n",
       "feelslikemin               float64\n",
       "feelslike                  float64\n",
       "dew                        float64\n",
       "humidity                   float64\n",
       "precip                     float64\n",
       "precipprob                   int64\n",
       "precipcover                float64\n",
       "preciptype                  object\n",
       "snow                         int64\n",
       "snowdepth                  float64\n",
       "windgust                   float64\n",
       "windspeed                  float64\n",
       "winddir                    float64\n",
       "sealevelpressure           float64\n",
       "cloudcover                 float64\n",
       "visibility                 float64\n",
       "solarradiation             float64\n",
       "solarenergy                float64\n",
       "uvindex                      int64\n",
       "severerisk                 float64\n",
       "sunrise                     object\n",
       "sunset                      object\n",
       "moonphase                  float64\n",
       "conditions                  object\n",
       "description                 object\n",
       "icon                        object\n",
       "stations                    object\n",
       "date                datetime64[ns]\n",
       "dtype: object"
      ]
     },
     "execution_count": 65,
     "metadata": {},
     "output_type": "execute_result"
    }
   ],
   "source": [
    "copy_visual[\"date\"]= pd.to_datetime(copy_visual.datetime)\n",
    "copy_visual.dtypes"
   ]
  },
  {
   "cell_type": "code",
   "execution_count": null,
   "id": "eda2188f",
   "metadata": {},
   "outputs": [],
   "source": []
  },
  {
   "cell_type": "code",
   "execution_count": 66,
   "id": "3d983908",
   "metadata": {},
   "outputs": [
    {
     "data": {
      "text/html": [
       "<div>\n",
       "<style scoped>\n",
       "    .dataframe tbody tr th:only-of-type {\n",
       "        vertical-align: middle;\n",
       "    }\n",
       "\n",
       "    .dataframe tbody tr th {\n",
       "        vertical-align: top;\n",
       "    }\n",
       "\n",
       "    .dataframe thead th {\n",
       "        text-align: right;\n",
       "    }\n",
       "</style>\n",
       "<table border=\"1\" class=\"dataframe\">\n",
       "  <thead>\n",
       "    <tr style=\"text-align: right;\">\n",
       "      <th></th>\n",
       "      <th>name</th>\n",
       "      <th>datetime</th>\n",
       "      <th>tempmax</th>\n",
       "      <th>tempmin</th>\n",
       "      <th>temp</th>\n",
       "      <th>feelslikemax</th>\n",
       "      <th>feelslikemin</th>\n",
       "      <th>feelslike</th>\n",
       "      <th>dew</th>\n",
       "      <th>humidity</th>\n",
       "      <th>...</th>\n",
       "      <th>uvindex</th>\n",
       "      <th>severerisk</th>\n",
       "      <th>sunrise</th>\n",
       "      <th>sunset</th>\n",
       "      <th>moonphase</th>\n",
       "      <th>conditions</th>\n",
       "      <th>description</th>\n",
       "      <th>icon</th>\n",
       "      <th>stations</th>\n",
       "      <th>date</th>\n",
       "    </tr>\n",
       "  </thead>\n",
       "  <tbody>\n",
       "    <tr>\n",
       "      <th>377</th>\n",
       "      <td>VNKT</td>\n",
       "      <td>2018-10-09</td>\n",
       "      <td>76.9</td>\n",
       "      <td>57.1</td>\n",
       "      <td>65.7</td>\n",
       "      <td>76.9</td>\n",
       "      <td>57.1</td>\n",
       "      <td>65.7</td>\n",
       "      <td>56.9</td>\n",
       "      <td>76.1</td>\n",
       "      <td>...</td>\n",
       "      <td>7</td>\n",
       "      <td>NaN</td>\n",
       "      <td>2018-10-09T06:00:04</td>\n",
       "      <td>2018-10-09T17:41:15</td>\n",
       "      <td>0.00</td>\n",
       "      <td>Partially cloudy</td>\n",
       "      <td>Partly cloudy throughout the day.</td>\n",
       "      <td>partly-cloudy-day</td>\n",
       "      <td>44454099999,VNKT,remote</td>\n",
       "      <td>2018-10-09</td>\n",
       "    </tr>\n",
       "    <tr>\n",
       "      <th>378</th>\n",
       "      <td>VNKT</td>\n",
       "      <td>2018-10-10</td>\n",
       "      <td>76.9</td>\n",
       "      <td>56.7</td>\n",
       "      <td>66.3</td>\n",
       "      <td>76.9</td>\n",
       "      <td>56.7</td>\n",
       "      <td>66.3</td>\n",
       "      <td>59.6</td>\n",
       "      <td>80.7</td>\n",
       "      <td>...</td>\n",
       "      <td>7</td>\n",
       "      <td>NaN</td>\n",
       "      <td>2018-10-10T06:00:36</td>\n",
       "      <td>2018-10-10T17:40:11</td>\n",
       "      <td>0.04</td>\n",
       "      <td>Rain, Partially cloudy</td>\n",
       "      <td>Partly cloudy throughout the day with early mo...</td>\n",
       "      <td>rain</td>\n",
       "      <td>44454099999,VNKT,remote</td>\n",
       "      <td>2018-10-10</td>\n",
       "    </tr>\n",
       "    <tr>\n",
       "      <th>379</th>\n",
       "      <td>VNKT</td>\n",
       "      <td>2018-10-11</td>\n",
       "      <td>78.7</td>\n",
       "      <td>60.7</td>\n",
       "      <td>68.2</td>\n",
       "      <td>78.7</td>\n",
       "      <td>60.7</td>\n",
       "      <td>68.2</td>\n",
       "      <td>59.6</td>\n",
       "      <td>75.2</td>\n",
       "      <td>...</td>\n",
       "      <td>7</td>\n",
       "      <td>NaN</td>\n",
       "      <td>2018-10-11T06:01:08</td>\n",
       "      <td>2018-10-11T17:39:07</td>\n",
       "      <td>0.07</td>\n",
       "      <td>Partially cloudy</td>\n",
       "      <td>Partly cloudy throughout the day.</td>\n",
       "      <td>partly-cloudy-day</td>\n",
       "      <td>44454099999,VNKT</td>\n",
       "      <td>2018-10-11</td>\n",
       "    </tr>\n",
       "    <tr>\n",
       "      <th>380</th>\n",
       "      <td>VNKT</td>\n",
       "      <td>2018-10-12</td>\n",
       "      <td>75.1</td>\n",
       "      <td>60.7</td>\n",
       "      <td>66.7</td>\n",
       "      <td>75.1</td>\n",
       "      <td>60.7</td>\n",
       "      <td>66.7</td>\n",
       "      <td>59.6</td>\n",
       "      <td>79.0</td>\n",
       "      <td>...</td>\n",
       "      <td>6</td>\n",
       "      <td>NaN</td>\n",
       "      <td>2018-10-12T06:01:41</td>\n",
       "      <td>2018-10-12T17:38:03</td>\n",
       "      <td>0.10</td>\n",
       "      <td>Partially cloudy</td>\n",
       "      <td>Partly cloudy throughout the day.</td>\n",
       "      <td>partly-cloudy-day</td>\n",
       "      <td>44454099999,VNKT</td>\n",
       "      <td>2018-10-12</td>\n",
       "    </tr>\n",
       "    <tr>\n",
       "      <th>381</th>\n",
       "      <td>VNKT</td>\n",
       "      <td>2018-10-13</td>\n",
       "      <td>76.9</td>\n",
       "      <td>58.9</td>\n",
       "      <td>66.8</td>\n",
       "      <td>76.9</td>\n",
       "      <td>58.9</td>\n",
       "      <td>66.8</td>\n",
       "      <td>57.4</td>\n",
       "      <td>74.4</td>\n",
       "      <td>...</td>\n",
       "      <td>8</td>\n",
       "      <td>NaN</td>\n",
       "      <td>2018-10-13T06:02:14</td>\n",
       "      <td>2018-10-13T17:37:01</td>\n",
       "      <td>0.13</td>\n",
       "      <td>Partially cloudy</td>\n",
       "      <td>Partly cloudy throughout the day.</td>\n",
       "      <td>partly-cloudy-day</td>\n",
       "      <td>44454099999,VNKT</td>\n",
       "      <td>2018-10-13</td>\n",
       "    </tr>\n",
       "    <tr>\n",
       "      <th>...</th>\n",
       "      <td>...</td>\n",
       "      <td>...</td>\n",
       "      <td>...</td>\n",
       "      <td>...</td>\n",
       "      <td>...</td>\n",
       "      <td>...</td>\n",
       "      <td>...</td>\n",
       "      <td>...</td>\n",
       "      <td>...</td>\n",
       "      <td>...</td>\n",
       "      <td>...</td>\n",
       "      <td>...</td>\n",
       "      <td>...</td>\n",
       "      <td>...</td>\n",
       "      <td>...</td>\n",
       "      <td>...</td>\n",
       "      <td>...</td>\n",
       "      <td>...</td>\n",
       "      <td>...</td>\n",
       "      <td>...</td>\n",
       "      <td>...</td>\n",
       "    </tr>\n",
       "    <tr>\n",
       "      <th>830</th>\n",
       "      <td>VNKT</td>\n",
       "      <td>2025-06-26</td>\n",
       "      <td>84.1</td>\n",
       "      <td>71.5</td>\n",
       "      <td>76.7</td>\n",
       "      <td>89.4</td>\n",
       "      <td>71.5</td>\n",
       "      <td>78.1</td>\n",
       "      <td>71.6</td>\n",
       "      <td>85.9</td>\n",
       "      <td>...</td>\n",
       "      <td>9</td>\n",
       "      <td>30.0</td>\n",
       "      <td>2025-06-26T05:09:50</td>\n",
       "      <td>2025-06-26T19:03:04</td>\n",
       "      <td>0.03</td>\n",
       "      <td>Rain, Partially cloudy</td>\n",
       "      <td>Partly cloudy throughout the day with rain.</td>\n",
       "      <td>rain</td>\n",
       "      <td>44454099999,VNKT,44449099999</td>\n",
       "      <td>2025-06-26</td>\n",
       "    </tr>\n",
       "    <tr>\n",
       "      <th>831</th>\n",
       "      <td>VNKT</td>\n",
       "      <td>2025-06-27</td>\n",
       "      <td>82.3</td>\n",
       "      <td>69.7</td>\n",
       "      <td>76.7</td>\n",
       "      <td>87.0</td>\n",
       "      <td>69.7</td>\n",
       "      <td>78.0</td>\n",
       "      <td>71.1</td>\n",
       "      <td>84.0</td>\n",
       "      <td>...</td>\n",
       "      <td>9</td>\n",
       "      <td>30.0</td>\n",
       "      <td>2025-06-27T05:10:09</td>\n",
       "      <td>2025-06-27T19:03:10</td>\n",
       "      <td>0.06</td>\n",
       "      <td>Rain, Partially cloudy</td>\n",
       "      <td>Partly cloudy throughout the day with rain.</td>\n",
       "      <td>rain</td>\n",
       "      <td>44454099999,VNKT</td>\n",
       "      <td>2025-06-27</td>\n",
       "    </tr>\n",
       "    <tr>\n",
       "      <th>832</th>\n",
       "      <td>VNKT</td>\n",
       "      <td>2025-06-28</td>\n",
       "      <td>82.3</td>\n",
       "      <td>71.5</td>\n",
       "      <td>76.1</td>\n",
       "      <td>85.2</td>\n",
       "      <td>71.5</td>\n",
       "      <td>76.8</td>\n",
       "      <td>70.5</td>\n",
       "      <td>84.3</td>\n",
       "      <td>...</td>\n",
       "      <td>7</td>\n",
       "      <td>10.0</td>\n",
       "      <td>2025-06-28T05:10:28</td>\n",
       "      <td>2025-06-28T19:03:15</td>\n",
       "      <td>0.09</td>\n",
       "      <td>Rain, Partially cloudy</td>\n",
       "      <td>Partly cloudy throughout the day with a chance...</td>\n",
       "      <td>rain</td>\n",
       "      <td>VNKT</td>\n",
       "      <td>2025-06-28</td>\n",
       "    </tr>\n",
       "    <tr>\n",
       "      <th>833</th>\n",
       "      <td>VNKT</td>\n",
       "      <td>2025-06-29</td>\n",
       "      <td>82.3</td>\n",
       "      <td>71.5</td>\n",
       "      <td>73.5</td>\n",
       "      <td>86.1</td>\n",
       "      <td>71.5</td>\n",
       "      <td>73.7</td>\n",
       "      <td>71.4</td>\n",
       "      <td>94.2</td>\n",
       "      <td>...</td>\n",
       "      <td>6</td>\n",
       "      <td>10.0</td>\n",
       "      <td>2025-06-29T05:10:48</td>\n",
       "      <td>2025-06-29T19:03:18</td>\n",
       "      <td>0.12</td>\n",
       "      <td>Rain, Partially cloudy</td>\n",
       "      <td>Partly cloudy throughout the day with a chance...</td>\n",
       "      <td>rain</td>\n",
       "      <td>VNKT</td>\n",
       "      <td>2025-06-29</td>\n",
       "    </tr>\n",
       "    <tr>\n",
       "      <th>834</th>\n",
       "      <td>VNKT</td>\n",
       "      <td>2025-06-30</td>\n",
       "      <td>76.9</td>\n",
       "      <td>68.6</td>\n",
       "      <td>71.1</td>\n",
       "      <td>76.9</td>\n",
       "      <td>68.6</td>\n",
       "      <td>71.1</td>\n",
       "      <td>68.1</td>\n",
       "      <td>90.7</td>\n",
       "      <td>...</td>\n",
       "      <td>3</td>\n",
       "      <td>10.0</td>\n",
       "      <td>2025-06-30T05:11:09</td>\n",
       "      <td>2025-06-30T19:03:21</td>\n",
       "      <td>0.16</td>\n",
       "      <td>Rain, Overcast</td>\n",
       "      <td>Cloudy skies throughout the day with a chance ...</td>\n",
       "      <td>rain</td>\n",
       "      <td>VNKT</td>\n",
       "      <td>2025-06-30</td>\n",
       "    </tr>\n",
       "  </tbody>\n",
       "</table>\n",
       "<p>2457 rows × 34 columns</p>\n",
       "</div>"
      ],
      "text/plain": [
       "     name    datetime  tempmax  tempmin  temp  feelslikemax  feelslikemin  \\\n",
       "377  VNKT  2018-10-09     76.9     57.1  65.7          76.9          57.1   \n",
       "378  VNKT  2018-10-10     76.9     56.7  66.3          76.9          56.7   \n",
       "379  VNKT  2018-10-11     78.7     60.7  68.2          78.7          60.7   \n",
       "380  VNKT  2018-10-12     75.1     60.7  66.7          75.1          60.7   \n",
       "381  VNKT  2018-10-13     76.9     58.9  66.8          76.9          58.9   \n",
       "..    ...         ...      ...      ...   ...           ...           ...   \n",
       "830  VNKT  2025-06-26     84.1     71.5  76.7          89.4          71.5   \n",
       "831  VNKT  2025-06-27     82.3     69.7  76.7          87.0          69.7   \n",
       "832  VNKT  2025-06-28     82.3     71.5  76.1          85.2          71.5   \n",
       "833  VNKT  2025-06-29     82.3     71.5  73.5          86.1          71.5   \n",
       "834  VNKT  2025-06-30     76.9     68.6  71.1          76.9          68.6   \n",
       "\n",
       "     feelslike   dew  humidity  ...  uvindex  severerisk              sunrise  \\\n",
       "377       65.7  56.9      76.1  ...        7         NaN  2018-10-09T06:00:04   \n",
       "378       66.3  59.6      80.7  ...        7         NaN  2018-10-10T06:00:36   \n",
       "379       68.2  59.6      75.2  ...        7         NaN  2018-10-11T06:01:08   \n",
       "380       66.7  59.6      79.0  ...        6         NaN  2018-10-12T06:01:41   \n",
       "381       66.8  57.4      74.4  ...        8         NaN  2018-10-13T06:02:14   \n",
       "..         ...   ...       ...  ...      ...         ...                  ...   \n",
       "830       78.1  71.6      85.9  ...        9        30.0  2025-06-26T05:09:50   \n",
       "831       78.0  71.1      84.0  ...        9        30.0  2025-06-27T05:10:09   \n",
       "832       76.8  70.5      84.3  ...        7        10.0  2025-06-28T05:10:28   \n",
       "833       73.7  71.4      94.2  ...        6        10.0  2025-06-29T05:10:48   \n",
       "834       71.1  68.1      90.7  ...        3        10.0  2025-06-30T05:11:09   \n",
       "\n",
       "                  sunset  moonphase              conditions  \\\n",
       "377  2018-10-09T17:41:15       0.00        Partially cloudy   \n",
       "378  2018-10-10T17:40:11       0.04  Rain, Partially cloudy   \n",
       "379  2018-10-11T17:39:07       0.07        Partially cloudy   \n",
       "380  2018-10-12T17:38:03       0.10        Partially cloudy   \n",
       "381  2018-10-13T17:37:01       0.13        Partially cloudy   \n",
       "..                   ...        ...                     ...   \n",
       "830  2025-06-26T19:03:04       0.03  Rain, Partially cloudy   \n",
       "831  2025-06-27T19:03:10       0.06  Rain, Partially cloudy   \n",
       "832  2025-06-28T19:03:15       0.09  Rain, Partially cloudy   \n",
       "833  2025-06-29T19:03:18       0.12  Rain, Partially cloudy   \n",
       "834  2025-06-30T19:03:21       0.16          Rain, Overcast   \n",
       "\n",
       "                                           description               icon  \\\n",
       "377                  Partly cloudy throughout the day.  partly-cloudy-day   \n",
       "378  Partly cloudy throughout the day with early mo...               rain   \n",
       "379                  Partly cloudy throughout the day.  partly-cloudy-day   \n",
       "380                  Partly cloudy throughout the day.  partly-cloudy-day   \n",
       "381                  Partly cloudy throughout the day.  partly-cloudy-day   \n",
       "..                                                 ...                ...   \n",
       "830        Partly cloudy throughout the day with rain.               rain   \n",
       "831        Partly cloudy throughout the day with rain.               rain   \n",
       "832  Partly cloudy throughout the day with a chance...               rain   \n",
       "833  Partly cloudy throughout the day with a chance...               rain   \n",
       "834  Cloudy skies throughout the day with a chance ...               rain   \n",
       "\n",
       "                         stations       date  \n",
       "377       44454099999,VNKT,remote 2018-10-09  \n",
       "378       44454099999,VNKT,remote 2018-10-10  \n",
       "379              44454099999,VNKT 2018-10-11  \n",
       "380              44454099999,VNKT 2018-10-12  \n",
       "381              44454099999,VNKT 2018-10-13  \n",
       "..                            ...        ...  \n",
       "830  44454099999,VNKT,44449099999 2025-06-26  \n",
       "831              44454099999,VNKT 2025-06-27  \n",
       "832                          VNKT 2025-06-28  \n",
       "833                          VNKT 2025-06-29  \n",
       "834                          VNKT 2025-06-30  \n",
       "\n",
       "[2457 rows x 34 columns]"
      ]
     },
     "execution_count": 66,
     "metadata": {},
     "output_type": "execute_result"
    }
   ],
   "source": [
    "copy_visual.iloc[830:,:]"
   ]
  },
  {
   "cell_type": "code",
   "execution_count": 67,
   "id": "d9537cc2",
   "metadata": {},
   "outputs": [
    {
     "name": "stdout",
     "output_type": "stream",
     "text": [
      "0\n",
      "0\n"
     ]
    }
   ],
   "source": [
    "# Check for duplicates in the 'date' column of both DataFrames\n",
    "print(copy_visual['date'].duplicated().sum())\n",
    "print(copy_meteostat['date'].duplicated().sum())"
   ]
  },
  {
   "cell_type": "code",
   "execution_count": 68,
   "id": "177f0abf",
   "metadata": {},
   "outputs": [],
   "source": [
    "# joining the visual crossing and meteostat on the basis of date\n",
    "df = pd.merge(copy_visual,copy_meteostat, how=\"inner\", left_on=\"date\",right_on=\"date\")\n",
    "df.drop_duplicates(inplace=True) #### this is a Bug, so fix it\n",
    "df.to_csv(\"joined data/joined_data.csv\",index=False)"
   ]
  },
  {
   "cell_type": "code",
   "execution_count": 69,
   "id": "fe573e64",
   "metadata": {},
   "outputs": [],
   "source": [
    "####################################################"
   ]
  },
  {
   "cell_type": "code",
   "execution_count": 70,
   "id": "3b089638",
   "metadata": {},
   "outputs": [],
   "source": [
    "df = pd.read_csv(\"/home/momo/Downloads/dataset for prec/joined data/joined_data.csv\")"
   ]
  },
  {
   "cell_type": "code",
   "execution_count": 71,
   "id": "338fa553",
   "metadata": {},
   "outputs": [
    {
     "data": {
      "text/plain": [
       "name                   0\n",
       "datetime               0\n",
       "tempmax                0\n",
       "tempmin                0\n",
       "temp                   0\n",
       "feelslikemax           0\n",
       "feelslikemin           0\n",
       "feelslike              0\n",
       "dew                    0\n",
       "humidity               0\n",
       "precip                 0\n",
       "precipprob             0\n",
       "precipcover            0\n",
       "preciptype          1827\n",
       "snow                   0\n",
       "snowdepth              0\n",
       "windgust               0\n",
       "windspeed              0\n",
       "winddir                0\n",
       "sealevelpressure       0\n",
       "cloudcover             0\n",
       "visibility             0\n",
       "solarradiation         0\n",
       "solarenergy            0\n",
       "uvindex                0\n",
       "severerisk          2452\n",
       "sunrise                0\n",
       "sunset                 0\n",
       "moonphase              0\n",
       "conditions             0\n",
       "description            0\n",
       "icon                   0\n",
       "stations               0\n",
       "date                   0\n",
       "precipitation          0\n",
       "dtype: int64"
      ]
     },
     "execution_count": 71,
     "metadata": {},
     "output_type": "execute_result"
    }
   ],
   "source": [
    "df.isna().sum()"
   ]
  },
  {
   "cell_type": "code",
   "execution_count": null,
   "id": "3fd80ac6",
   "metadata": {},
   "outputs": [],
   "source": []
  },
  {
   "cell_type": "code",
   "execution_count": 72,
   "id": "043993b6",
   "metadata": {},
   "outputs": [],
   "source": [
    "###playing\n",
    "import pandas as pd\n",
    "f = pd.read_csv(\"/home/momo/Downloads/dataset for prec/visual_crossing/visual_crossing_combined_data.csv\")"
   ]
  },
  {
   "cell_type": "code",
   "execution_count": 73,
   "id": "08bc0fb4",
   "metadata": {},
   "outputs": [
    {
     "data": {
      "text/plain": [
       "0"
      ]
     },
     "execution_count": 73,
     "metadata": {},
     "output_type": "execute_result"
    }
   ],
   "source": [
    "f.duplicated().sum()"
   ]
  },
  {
   "cell_type": "code",
   "execution_count": null,
   "id": "8e536547",
   "metadata": {},
   "outputs": [],
   "source": []
  },
  {
   "cell_type": "code",
   "execution_count": null,
   "id": "b145ffda",
   "metadata": {},
   "outputs": [],
   "source": []
  },
  {
   "cell_type": "code",
   "execution_count": null,
   "id": "b2e77167",
   "metadata": {},
   "outputs": [],
   "source": []
  },
  {
   "cell_type": "code",
   "execution_count": null,
   "id": "1eaa314b",
   "metadata": {},
   "outputs": [],
   "source": []
  },
  {
   "cell_type": "code",
   "execution_count": null,
   "id": "02d957e0",
   "metadata": {},
   "outputs": [],
   "source": []
  }
 ],
 "metadata": {
  "kernelspec": {
   "display_name": "euron",
   "language": "python",
   "name": "python3"
  },
  "language_info": {
   "codemirror_mode": {
    "name": "ipython",
    "version": 3
   },
   "file_extension": ".py",
   "mimetype": "text/x-python",
   "name": "python",
   "nbconvert_exporter": "python",
   "pygments_lexer": "ipython3",
   "version": "3.8.20"
  }
 },
 "nbformat": 4,
 "nbformat_minor": 5
}
